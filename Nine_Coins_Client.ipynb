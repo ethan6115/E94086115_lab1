{
 "cells": [
  {
   "cell_type": "code",
   "execution_count": 12,
   "id": "8687b4f7-be64-43d6-a984-f9b27ba5ca28",
   "metadata": {},
   "outputs": [],
   "source": [
    "from nine_coins import Nine_Coins\n",
    "    "
   ]
  },
  {
   "cell_type": "code",
   "execution_count": 13,
   "id": "11803c24-f4fe-4b27-9149-3f0ce90c57d0",
   "metadata": {},
   "outputs": [
    {
     "data": {
      "text/plain": [
       "Nine_Coins: HHHHHHTTT"
      ]
     },
     "execution_count": 13,
     "metadata": {},
     "output_type": "execute_result"
    }
   ],
   "source": [
    "c=Nine_Coins(7)\n",
    "c"
   ]
  },
  {
   "cell_type": "code",
   "execution_count": 14,
   "id": "61df07cf-3a28-4913-8a3e-74ad08b245d6",
   "metadata": {},
   "outputs": [
    {
     "name": "stdout",
     "output_type": "stream",
     "text": [
      "binary:000000111 and demical: 7\n"
     ]
    }
   ],
   "source": [
    "print(c)"
   ]
  },
  {
   "cell_type": "code",
   "execution_count": 15,
   "id": "e528c73f-71e8-4d88-b209-38d92992e357",
   "metadata": {},
   "outputs": [
    {
     "data": {
      "text/plain": [
       "Nine_Coins: TTTTHHTTH"
      ]
     },
     "execution_count": 15,
     "metadata": {},
     "output_type": "execute_result"
    }
   ],
   "source": [
    "c.toss()\n",
    "c"
   ]
  },
  {
   "cell_type": "code",
   "execution_count": 16,
   "id": "8c726e1f-9a02-4e89-8883-d664c9e2e766",
   "metadata": {},
   "outputs": [
    {
     "name": "stdout",
     "output_type": "stream",
     "text": [
      "binary:111100110 and demical: 486\n"
     ]
    }
   ],
   "source": [
    "print(c)"
   ]
  },
  {
   "cell_type": "code",
   "execution_count": null,
   "id": "4d62c313-6c1a-4b97-bda1-551bfecdc0fa",
   "metadata": {},
   "outputs": [],
   "source": []
  },
  {
   "cell_type": "code",
   "execution_count": null,
   "id": "54786b1b-cc34-4e0d-9cac-5da97121fdce",
   "metadata": {},
   "outputs": [],
   "source": []
  }
 ],
 "metadata": {
  "kernelspec": {
   "display_name": "Python 3",
   "language": "python",
   "name": "python3"
  },
  "language_info": {
   "codemirror_mode": {
    "name": "ipython",
    "version": 3
   },
   "file_extension": ".py",
   "mimetype": "text/x-python",
   "name": "python",
   "nbconvert_exporter": "python",
   "pygments_lexer": "ipython3",
   "version": "3.8.8"
  }
 },
 "nbformat": 4,
 "nbformat_minor": 5
}
