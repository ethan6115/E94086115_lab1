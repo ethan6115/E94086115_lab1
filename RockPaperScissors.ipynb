{
 "cells": [
  {
   "cell_type": "code",
   "execution_count": 33,
   "id": "3eaaebe9-21f4-4fa7-b440-e5e3f640ad38",
   "metadata": {},
   "outputs": [
    {
     "name": "stdout",
     "output_type": "stream",
     "text": [
      "Welcome to ROCK, PAPER, SCISSORS game!\n"
     ]
    },
    {
     "name": "stdin",
     "output_type": "stream",
     "text": [
      "Enter your move: (r)ock (p)aper (s)cissors r\n"
     ]
    },
    {
     "name": "stdout",
     "output_type": "stream",
     "text": [
      "ROCK versus...\n",
      "ROCK \n",
      "It is a tie!\n",
      "Welcome to ROCK, PAPER, SCISSORS game!\n"
     ]
    },
    {
     "name": "stdin",
     "output_type": "stream",
     "text": [
      "Enter your move: (r)ock (p)aper (s)cissors r\n"
     ]
    },
    {
     "name": "stdout",
     "output_type": "stream",
     "text": [
      "ROCK versus...\n",
      "PAPER\n",
      "You lose!\n",
      "Welcome to ROCK, PAPER, SCISSORS game!\n"
     ]
    },
    {
     "name": "stdin",
     "output_type": "stream",
     "text": [
      "Enter your move: (r)ock (p)aper (s)cissors r\n"
     ]
    },
    {
     "name": "stdout",
     "output_type": "stream",
     "text": [
      "ROCK versus...\n",
      "SCISSORS\n",
      "You win!\n",
      "You have 1 ties and 1 losses before your first win.\n"
     ]
    }
   ],
   "source": [
    "win=0        #用來紀錄輸和平手次數\n",
    "lose=0\n",
    "tie=0\n",
    "while win==0:           #還沒贏之前都會持續執行\n",
    "    import random\n",
    "    print('Welcome to ROCK, PAPER, SCISSORS game!')\n",
    "    move=str(input('Enter your move: (r)ock (p)aper (s)cissors'))        \n",
    "    \n",
    "    versus=random.randint(1, 3)          #亂樹得出1(ROCK),2(PAPER),3(SCISSORS)\n",
    "    if move=='r':                        #玩家出石頭時的輸贏\n",
    "        print('ROCK versus...')\n",
    "        if versus==1:                    #石頭對石頭平手\n",
    "            print('ROCK ')               \n",
    "            tie+=1\n",
    "            print('It is a tie!')\n",
    "        elif versus==2:                  #石頭對布輸\n",
    "            print('PAPER')\n",
    "            lose+=1\n",
    "            print('You lose!')\n",
    "        elif versus==3:                  #石頭對剪刀贏\n",
    "            print('SCISSORS')\n",
    "            win+=1\n",
    "            print('You win!')\n",
    "    elif move=='p':                      #玩家出布時的輸贏\n",
    "        print('PAPER versus...')\n",
    "        if versus==1:                    #布對石頭贏\n",
    "            print('ROCK ')\n",
    "            win+=1\n",
    "            print('You win!')\n",
    "        elif versus==2:                  #布對布平手\n",
    "            print('PAPER')\n",
    "            tie+=1\n",
    "            print('It is a tie!')\n",
    "        elif versus==3:                  #布對剪刀輸\n",
    "            print('SCISSORS')\n",
    "            lose+=1\n",
    "            print('You lose!')\n",
    "\n",
    "    elif move=='s':                       #玩家出剪刀時的輸贏\n",
    "        print('SCISSORS versus...')\n",
    "        if versus==1:                     #剪刀對石頭輸\n",
    "            print('ROCK ')\n",
    "            lose+=1\n",
    "            print('You lose!')\n",
    "        elif versus==2:                   #剪刀對布贏\n",
    "            print('PAPER')\n",
    "            win+=1\n",
    "            print('You win!')\n",
    "        elif versus==3:                   #剪刀對剪刀平手\n",
    "            print('SCISSORS')\n",
    "            tie+=1\n",
    "            print('It is a tie!')\n",
    "print(f'You have {tie} ties and {lose} losses before your first win.')"
   ]
  },
  {
   "cell_type": "code",
   "execution_count": 26,
   "id": "63d9243c-5c26-4651-938e-4c13a87439bf",
   "metadata": {},
   "outputs": [
    {
     "name": "stdout",
     "output_type": "stream",
     "text": [
      "SCISSORS versus...\n",
      "PAPER\n"
     ]
    }
   ],
   "source": [
    "   "
   ]
  },
  {
   "cell_type": "code",
   "execution_count": null,
   "id": "aca34f07-68ad-4c8c-8736-3982f85a2a32",
   "metadata": {},
   "outputs": [],
   "source": []
  }
 ],
 "metadata": {
  "kernelspec": {
   "display_name": "Python 3",
   "language": "python",
   "name": "python3"
  },
  "language_info": {
   "codemirror_mode": {
    "name": "ipython",
    "version": 3
   },
   "file_extension": ".py",
   "mimetype": "text/x-python",
   "name": "python",
   "nbconvert_exporter": "python",
   "pygments_lexer": "ipython3",
   "version": "3.8.8"
  }
 },
 "nbformat": 4,
 "nbformat_minor": 5
}
