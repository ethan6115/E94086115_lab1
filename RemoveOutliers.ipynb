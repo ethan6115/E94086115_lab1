{
 "cells": [
  {
   "cell_type": "code",
   "execution_count": 55,
   "id": "c1e08c3a-c329-4eaa-b48f-3a7501269fb1",
   "metadata": {},
   "outputs": [
    {
     "name": "stdin",
     "output_type": "stream",
     "text": [
      "Enter the number of smallest and largest values to remove: 2\n",
      "Enter a value (q or Q to quit) 1001\n",
      "Enter a value (q or Q to quit) 2001\n",
      "Enter a value (q or Q to quit) 1\n",
      "Enter a value (q or Q to quit) 2\n",
      "Enter a value (q or Q to quit) -1001\n",
      "Enter a value (q or Q to quit) -20\n",
      "Enter a value (q or Q to quit) 5\n",
      "Enter a value (q or Q to quit) 4\n",
      "Enter a value (q or Q to quit) 3\n",
      "Enter a value (q or Q to quit) 1\n",
      "Enter a value (q or Q to quit) 2\n",
      "Enter a value (q or Q to quit) 3\n",
      "Enter a value (q or Q to quit) q\n"
     ]
    },
    {
     "name": "stdout",
     "output_type": "stream",
     "text": [
      "[1001, 2001, 1, 2, -1001, -20, 5, 4, 3, 1, 2, 3]\n",
      "[1, 1, 2, 2, 3, 3, 4, 5]\n",
      "[-1001, 2001, -20, 1001]\n"
     ]
    }
   ],
   "source": [
    "n=int(input('Enter the number of smallest and largest values to remove:'))\n",
    "datalist=[]\n",
    "delete_number=[]\n",
    "data=0\n",
    "while (1):\n",
    "    data=input('Enter a value (q or Q to quit)')     \n",
    "    if data=='q' or data=='Q':                           #輸入為Q或q時停止\n",
    "        break\n",
    "    else:\n",
    "        datalist.append(int(data))                       #將輸入丟進list中\n",
    "print(datalist)\n",
    "if len(datalist)<=2*n:                                   #如果n的兩倍大於輸入的值總數則輸出資料不夠\n",
    "    print('Not enough data')\n",
    "else:\n",
    "    datalist.sort()\n",
    "    while n>0:\n",
    "        n-=1\n",
    "        delete_number.append(min(datalist))              #將排序好的list中準備刪掉的數丟進delete_number\n",
    "        delete_number.append(max(datalist))\n",
    "        datalist.remove(min(datalist))                   #刪掉最大值和最小值\n",
    "        datalist.remove(max(datalist))\n",
    "    print(datalist)\n",
    "    delete_number.sort\n",
    "    print(delete_number)\n",
    "\n",
    "        "
   ]
  },
  {
   "cell_type": "code",
   "execution_count": null,
   "id": "b0856e72-ef7c-4dde-abeb-0bde50d49e40",
   "metadata": {},
   "outputs": [],
   "source": []
  },
  {
   "cell_type": "code",
   "execution_count": null,
   "id": "bac8d979-bd97-48a3-bfe9-6ff777920897",
   "metadata": {},
   "outputs": [],
   "source": []
  }
 ],
 "metadata": {
  "kernelspec": {
   "display_name": "Python 3",
   "language": "python",
   "name": "python3"
  },
  "language_info": {
   "codemirror_mode": {
    "name": "ipython",
    "version": 3
   },
   "file_extension": ".py",
   "mimetype": "text/x-python",
   "name": "python",
   "nbconvert_exporter": "python",
   "pygments_lexer": "ipython3",
   "version": "3.8.8"
  }
 },
 "nbformat": 4,
 "nbformat_minor": 5
}
