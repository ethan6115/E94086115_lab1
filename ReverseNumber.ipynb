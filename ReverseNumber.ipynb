{
 "cells": [
  {
   "cell_type": "code",
   "execution_count": 23,
   "id": "741ba025-7c7b-4a68-b3eb-1912c114d174",
   "metadata": {},
   "outputs": [],
   "source": [
    "def reverse(number):\n",
    "    count=0\n",
    "    reverse_number=int(0)                                    #用來記錄逆轉過的數字\n",
    "    while number%10==0:                                      #如果輸入數字的最後一位數為0，將有幾個0記錄下來\n",
    "        count+=1                                             \n",
    "        number=int(number/10)\n",
    "    while number>0:\n",
    "        reverse_number=reverse_number*10+(number%10)         #將中間數字的部分倒轉，作法為利用餘數紀錄最後一位，並且將原本紀錄的數字乘以10\n",
    "        number=int(number/10)                                \n",
    "    zero=str('0')                                            #因為integer無法紀錄00123這類前面為0的數字，因此轉成string輸出\n",
    "    stringnumber=str(reverse_number)\n",
    "    return zero*count+stringnumber"
   ]
  },
  {
   "cell_type": "code",
   "execution_count": 24,
   "id": "dc9efa8a-5fc3-48a8-ba84-f5020ae346a9",
   "metadata": {},
   "outputs": [
    {
     "name": "stdin",
     "output_type": "stream",
     "text": [
      "Enter an integer: 9876543210\n"
     ]
    },
    {
     "data": {
      "text/plain": [
       "'0123456789'"
      ]
     },
     "execution_count": 24,
     "metadata": {},
     "output_type": "execute_result"
    }
   ],
   "source": [
    "num = int(input('Enter an integer:'))\n",
    "reverse(num)\n"
   ]
  },
  {
   "cell_type": "code",
   "execution_count": null,
   "id": "d267f6fe-85da-4c2a-bfd9-31c85ca0a8ca",
   "metadata": {},
   "outputs": [],
   "source": []
  },
  {
   "cell_type": "code",
   "execution_count": null,
   "id": "764b7a70-6ced-4dca-ad55-019515c24812",
   "metadata": {},
   "outputs": [],
   "source": []
  },
  {
   "cell_type": "code",
   "execution_count": null,
   "id": "958a37d7-a8af-4c47-89f3-56265b514448",
   "metadata": {},
   "outputs": [],
   "source": []
  }
 ],
 "metadata": {
  "kernelspec": {
   "display_name": "Python 3",
   "language": "python",
   "name": "python3"
  },
  "language_info": {
   "codemirror_mode": {
    "name": "ipython",
    "version": 3
   },
   "file_extension": ".py",
   "mimetype": "text/x-python",
   "name": "python",
   "nbconvert_exporter": "python",
   "pygments_lexer": "ipython3",
   "version": "3.8.8"
  }
 },
 "nbformat": 4,
 "nbformat_minor": 5
}
